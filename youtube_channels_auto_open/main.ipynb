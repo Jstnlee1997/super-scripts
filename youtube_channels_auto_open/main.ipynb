{
 "cells": [
  {
   "cell_type": "code",
   "execution_count": 1,
   "metadata": {},
   "outputs": [],
   "source": [
    "# Write a code that opens up windows of all the accounts you subscribed to. \n",
    "\n",
    "import json\n",
    "from googleapiclient.discovery import build\n",
    "import webbrowser\n",
    "\n",
    "# input personal channel_id\n",
    "api_key = 'whatever your api key is get it here: https://console.developers.google.com'\n",
    "\n",
    "youtube_service = build('youtube', 'v3', developerKey = api_key) \n",
    "\n",
    "# input personal Channel ID, obtain it from going to your own Youtube channel, open settings, then advanced settings\n",
    "# this is the channel ID of one of my own favourite Youtubers Ali Abdaal\n",
    "channel_id = 'UCoOae5nYA7VqaXzerajD0lg'\n",
    "\n",
    "# input an integer ranging from 1-50\n",
    "results_per_page = 20\n",
    "\n",
    "# go through the subscriptions and obtain the channel IDs of all his/her/your subscriptions\n",
    "requestSubscriptionStatistics = youtube_service.subscriptions().list(\n",
    "    part = 'snippet',\n",
    "    channelId = channel_id,\n",
    "    maxResults = results_per_page\n",
    ")\n",
    "# execute the Youtube API\n",
    "responseSubScription = requestSubscriptionStatistics.execute()\n",
    "\n",
    "# Obtain a list of the IDs of all the subscribers\n",
    "id_of_subscribers = []\n",
    "for item in responseSubScription['items']:\n",
    "    id_of_subscribers.append(item['snippet']['resourceId']['channelId'])\n",
    "\n",
    "# For each channel ID of the subscribers, open up a separate window using Google Chrome\n",
    "for channel_ID in id_of_subscribers:\n",
    "    base_video_url = 'https://www.youtube.com/channel/'\n",
    "    channelID = channel_ID\n",
    "    webbrowser.register('chrome',\n",
    "        None,\n",
    "        webbrowser.BackgroundBrowser(\"C://Program Files (x86)//Google//Chrome//Application//chrome.exe\"))\n",
    "    webbrowser.get('chrome').open(base_video_url + channelID)\n"
   ]
  }
 ],
 "metadata": {
  "kernelspec": {
   "display_name": "Python 3",
   "language": "python",
   "name": "python3"
  },
  "language_info": {
   "codemirror_mode": {
    "name": "ipython",
    "version": 3
   },
   "file_extension": ".py",
   "mimetype": "text/x-python",
   "name": "python",
   "nbconvert_exporter": "python",
   "pygments_lexer": "ipython3",
   "version": "3.8.3"
  }
 },
 "nbformat": 4,
 "nbformat_minor": 4
}
